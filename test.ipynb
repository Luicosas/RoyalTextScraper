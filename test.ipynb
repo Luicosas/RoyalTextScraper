{
 "cells": [
  {
   "cell_type": "code",
   "execution_count": 15,
   "id": "initial_id",
   "metadata": {
    "ExecuteTime": {
     "end_time": "2024-02-10T16:53:48.416555915Z",
     "start_time": "2024-02-10T16:53:48.304154354Z"
    },
    "collapsed": true
   },
   "outputs": [],
   "source": [
    "from bs4 import BeautifulSoup\n",
    "import requests\n",
    "import os\n",
    "import pickle\n",
    "import time\n",
    "import random"
   ]
  },
  {
   "cell_type": "code",
   "execution_count": 34,
   "metadata": {},
   "outputs": [
    {
     "name": "stdout",
     "output_type": "stream",
     "text": [
      "generating chapters file\n",
      "['https://www.royalroad.com/fiction/21220/mother-of-learning/chapter/301778/1-good-morning-brother', 'https://www.royalroad.com/fiction/21220/mother-of-learning/chapter/301781/2-lifes-little-problems', 'https://www.royalroad.com/fiction/21220/mother-of-learning/chapter/301784/3-the-bitter-truth', 'https://www.royalroad.com/fiction/21220/mother-of-learning/chapter/301788/4-stars-fell', 'https://www.royalroad.com/fiction/21220/mother-of-learning/chapter/301795/5-start-over', 'https://www.royalroad.com/fiction/21220/mother-of-learning/chapter/301799/6-concentrate-and-try-again', 'https://www.royalroad.com/fiction/21220/mother-of-learning/chapter/301801/7-of-gaps-and-pretending', 'https://www.royalroad.com/fiction/21220/mother-of-learning/chapter/301802/8-perspective', 'https://www.royalroad.com/fiction/21220/mother-of-learning/chapter/301984/9-cheaters', 'https://www.royalroad.com/fiction/21220/mother-of-learning/chapter/302241/10-overlooked-details', 'https://www.royalroad.com/fiction/21220/mother-of-learning/chapter/302540/11-limiters', 'https://www.royalroad.com/fiction/21220/mother-of-learning/chapter/302854/12-soul-web', 'https://www.royalroad.com/fiction/21220/mother-of-learning/chapter/303116/13-any-second-now', 'https://www.royalroad.com/fiction/21220/mother-of-learning/chapter/303485/14-the-sister-effect', 'https://www.royalroad.com/fiction/21220/mother-of-learning/chapter/303785/15-busy-friday', 'https://www.royalroad.com/fiction/21220/mother-of-learning/chapter/304097/16-we-need-to-talk', 'https://www.royalroad.com/fiction/21220/mother-of-learning/chapter/304398/17-sympathy-for-the-spider', 'https://www.royalroad.com/fiction/21220/mother-of-learning/chapter/304716/18-the-pact-is-sealed', 'https://www.royalroad.com/fiction/21220/mother-of-learning/chapter/305052/19-tangled-webs', 'https://www.royalroad.com/fiction/21220/mother-of-learning/chapter/305359/20-a-matter-of-faith', 'https://www.royalroad.com/fiction/21220/mother-of-learning/chapter/305662/21-wheel-of-fortune', 'https://www.royalroad.com/fiction/21220/mother-of-learning/chapter/305877/22-complications', 'https://www.royalroad.com/fiction/21220/mother-of-learning/chapter/306244/23-lighting-the-fuse', 'https://www.royalroad.com/fiction/21220/mother-of-learning/chapter/306575/24-smoke-and-mirrors', 'https://www.royalroad.com/fiction/21220/mother-of-learning/chapter/306758/25-the-unexpected', 'https://www.royalroad.com/fiction/21220/mother-of-learning/chapter/307245/26-soulkill', 'https://www.royalroad.com/fiction/21220/mother-of-learning/chapter/307248/27-cast-adrift', 'https://www.royalroad.com/fiction/21220/mother-of-learning/chapter/307587/28-cauldron', 'https://www.royalroad.com/fiction/21220/mother-of-learning/chapter/307852/29-the-hunters-and-the-hunted', 'https://www.royalroad.com/fiction/21220/mother-of-learning/chapter/308104/30-a-game-of-shops', 'https://www.royalroad.com/fiction/21220/mother-of-learning/chapter/308373/31-marked', 'https://www.royalroad.com/fiction/21220/mother-of-learning/chapter/308643/32-alternatives', 'https://www.royalroad.com/fiction/21220/mother-of-learning/chapter/308876/33-gateways', 'https://www.royalroad.com/fiction/21220/mother-of-learning/chapter/309130/34-unreasonable-things', 'https://www.royalroad.com/fiction/21220/mother-of-learning/chapter/309417/35-mistakes-have-been-made', 'https://www.royalroad.com/fiction/21220/mother-of-learning/chapter/309946/36-a-battle-of-minds', 'https://www.royalroad.com/fiction/21220/mother-of-learning/chapter/310296/37-slow-burn', 'https://www.royalroad.com/fiction/21220/mother-of-learning/chapter/310557/38-return-to-cyoria', 'https://www.royalroad.com/fiction/21220/mother-of-learning/chapter/311034/39-suspicious-coincidences', 'https://www.royalroad.com/fiction/21220/mother-of-learning/chapter/311406/40-shifting-tracks', 'https://www.royalroad.com/fiction/21220/mother-of-learning/chapter/311668/41-myriad-clashing-motives', 'https://www.royalroad.com/fiction/21220/mother-of-learning/chapter/311973/42-sum-of-its-parts', 'https://www.royalroad.com/fiction/21220/mother-of-learning/chapter/312321/43-overwhelmed', 'https://www.royalroad.com/fiction/21220/mother-of-learning/chapter/312539/44-a-show-of-trust', 'https://www.royalroad.com/fiction/21220/mother-of-learning/chapter/312749/45-fine-structures', 'https://www.royalroad.com/fiction/21220/mother-of-learning/chapter/313133/46-the-other-side', 'https://www.royalroad.com/fiction/21220/mother-of-learning/chapter/313489/47-politics', 'https://www.royalroad.com/fiction/21220/mother-of-learning/chapter/313816/48-well-of-souls', 'https://www.royalroad.com/fiction/21220/mother-of-learning/chapter/314133/49-substitution', 'https://www.royalroad.com/fiction/21220/mother-of-learning/chapter/314391/50-containment', 'https://www.royalroad.com/fiction/21220/mother-of-learning/chapter/314625/51-out-of-control', 'https://www.royalroad.com/fiction/21220/mother-of-learning/chapter/314869/52-things-fall-apart', 'https://www.royalroad.com/fiction/21220/mother-of-learning/chapter/315172/53-phantoms', 'https://www.royalroad.com/fiction/21220/mother-of-learning/chapter/315504/54-the-gate-is-barred', 'https://www.royalroad.com/fiction/21220/mother-of-learning/chapter/315711/55-threshold', 'https://www.royalroad.com/fiction/21220/mother-of-learning/chapter/315980/56-obscure', 'https://www.royalroad.com/fiction/21220/mother-of-learning/chapter/316328/57-unwanted', 'https://www.royalroad.com/fiction/21220/mother-of-learning/chapter/316549/58-questions-and-answers', 'https://www.royalroad.com/fiction/21220/mother-of-learning/chapter/316947/59-one-step-forward', 'https://www.royalroad.com/fiction/21220/mother-of-learning/chapter/317193/60-into-the-abyss', 'https://www.royalroad.com/fiction/21220/mother-of-learning/chapter/317506/61-anthills', 'https://www.royalroad.com/fiction/21220/mother-of-learning/chapter/317781/62-improperly-used', 'https://www.royalroad.com/fiction/21220/mother-of-learning/chapter/318066/63-the-march-of-days', 'https://www.royalroad.com/fiction/21220/mother-of-learning/chapter/318332/64-distance', 'https://www.royalroad.com/fiction/21220/mother-of-learning/chapter/318639/65-dangerous-ground', 'https://www.royalroad.com/fiction/21220/mother-of-learning/chapter/318950/66-marred-perfection', 'https://www.royalroad.com/fiction/21220/mother-of-learning/chapter/319347/67-convergence', 'https://www.royalroad.com/fiction/21220/mother-of-learning/chapter/319545/68-green-hell', 'https://www.royalroad.com/fiction/21220/mother-of-learning/chapter/319853/69-ruin', 'https://www.royalroad.com/fiction/21220/mother-of-learning/chapter/320107/70-carried-away', 'https://www.royalroad.com/fiction/21220/mother-of-learning/chapter/320370/71-shadows-of-the-past', 'https://www.royalroad.com/fiction/21220/mother-of-learning/chapter/320672/72-crossroads', 'https://www.royalroad.com/fiction/21220/mother-of-learning/chapter/320954/73-plodding-ahead', 'https://www.royalroad.com/fiction/21220/mother-of-learning/chapter/321285/74-the-return', 'https://www.royalroad.com/fiction/21220/mother-of-learning/chapter/321479/75-soul-stealer', 'https://www.royalroad.com/fiction/21220/mother-of-learning/chapter/321816/76-critical-blunder', 'https://www.royalroad.com/fiction/21220/mother-of-learning/chapter/322204/77-testing', 'https://www.royalroad.com/fiction/21220/mother-of-learning/chapter/322443/78-grinding-stone', 'https://www.royalroad.com/fiction/21220/mother-of-learning/chapter/322733/79-crime-and-evading-punishment', 'https://www.royalroad.com/fiction/21220/mother-of-learning/chapter/323014/80-enemies', 'https://www.royalroad.com/fiction/21220/mother-of-learning/chapter/323436/81-a-civil-conversation', 'https://www.royalroad.com/fiction/21220/mother-of-learning/chapter/323769/82-ancient-circles', 'https://www.royalroad.com/fiction/21220/mother-of-learning/chapter/324024/83-scorpion', 'https://www.royalroad.com/fiction/21220/mother-of-learning/chapter/324123/84-powerless', 'https://www.royalroad.com/fiction/21220/mother-of-learning/chapter/324397/85-critical-mass', 'https://www.royalroad.com/fiction/21220/mother-of-learning/chapter/324653/86-a-new-world', 'https://www.royalroad.com/fiction/21220/mother-of-learning/chapter/325051/87-agents-of-the-crown', 'https://www.royalroad.com/fiction/21220/mother-of-learning/chapter/325392/88-mysterious-ways', 'https://www.royalroad.com/fiction/21220/mother-of-learning/chapter/325706/89-victory', 'https://www.royalroad.com/fiction/21220/mother-of-learning/chapter/326028/90-change-of-plans', 'https://www.royalroad.com/fiction/21220/mother-of-learning/chapter/326370/91-a-path-paid-in-blood', 'https://www.royalroad.com/fiction/21220/mother-of-learning/chapter/326727/92-the-scramble', 'https://www.royalroad.com/fiction/21220/mother-of-learning/chapter/327015/93-shelter-in-the-storm', 'https://www.royalroad.com/fiction/21220/mother-of-learning/chapter/327316/94-ghosts', 'https://www.royalroad.com/fiction/21220/mother-of-learning/chapter/328843/95-betrayer', 'https://www.royalroad.com/fiction/21220/mother-of-learning/chapter/335040/96-contract', 'https://www.royalroad.com/fiction/21220/mother-of-learning/chapter/344062/97-illusory', 'https://www.royalroad.com/fiction/21220/mother-of-learning/chapter/353454/98-beneath-the-surface', 'https://www.royalroad.com/fiction/21220/mother-of-learning/chapter/361412/99-powderkeg', 'https://www.royalroad.com/fiction/21220/mother-of-learning/chapter/371224/100-sacrifice', 'https://www.royalroad.com/fiction/21220/mother-of-learning/chapter/386938/101-the-switch', 'https://www.royalroad.com/fiction/21220/mother-of-learning/chapter/400666/102-giants', 'https://www.royalroad.com/fiction/21220/mother-of-learning/chapter/452729/103-window-of-opportunity', 'https://www.royalroad.com/fiction/21220/mother-of-learning/chapter/452730/104-i-win-i', 'https://www.royalroad.com/fiction/21220/mother-of-learning/chapter/452733/105-i-win-ii', 'https://www.royalroad.com/fiction/21220/mother-of-learning/chapter/452736/106-i-win-iii', 'https://www.royalroad.com/fiction/21220/mother-of-learning/chapter/455876/epilogue', 'https://www.royalroad.com/fiction/21220/mother-of-learning/chapter/455877/afterword', 'https://www.royalroad.com/fiction/21220/mother-of-learning/chapter/1269041/new-story-is-out-zenith-of-sorcery']\n",
      "109\n"
     ]
    }
   ],
   "source": [
    "chapter_file = \"./chapter_urls\"\n",
    "\n",
    "chapters = []\n",
    "if(not os.path.exists(chapter_file)):\n",
    "    print('generating chapters file')\n",
    "    homepage_html = requests.get('https://www.royalroad.com/fiction/21220/mother-of-learning')\n",
    "\n",
    "    homepage_soup = BeautifulSoup(homepage_html.content, 'html.parser')\n",
    "\n",
    "    chapter_index = homepage_soup.find(\"table\", {\"id\" : \"chapters\"})\n",
    "\n",
    "    royalroadurl = \"https://www.royalroad.com\"\n",
    "    chapters = [royalroadurl + row.find(\"td\").find(\"a\")['href'] for row in chapter_index.find_all(\"tr\", {\"class\": \"chapter-row\"})]\n",
    "\n",
    "    pickle.dump(chapters, open(chapter_file, 'wb'))\n",
    "else: \n",
    "    chapters = pickle.load(open(chapter_file, 'rb'))\n",
    "\n",
    "print(chapters)\n",
    "print(len(chapters))"
   ]
  },
  {
   "cell_type": "code",
   "execution_count": null,
   "id": "c158cfc678f6660",
   "metadata": {
    "collapsed": false
   },
   "outputs": [],
   "source": [
    "# get and save the html content of every chapter\n",
    "\n",
    "chap_urls = pickle.load(open(chapter_file, 'rb'))\n",
    "chapters_folder = \"./chapters/\"\n",
    "\n",
    "min_rand_wait_time = 1\n",
    "max_rand_wait_time = 3\n",
    "\n",
    "for idx, chap_url in enumerate(chap_urls):\n",
    "    filepath = os.path.join(chapters_folder, str(idx))\n",
    "    if(not os.path.exists(filepath)):\n",
    "        print(\"generating chapter file\", idx)\n",
    "        time.sleep(random.randrange(min_rand_wait_time, max_rand_wait_time))\n",
    "        html = requests.get(chap_url)\n",
    "        open(filepath, 'wb').write(html.content)\n"
   ]
  },
  {
   "cell_type": "code",
   "execution_count": 47,
   "id": "e1326478",
   "metadata": {},
   "outputs": [
    {
     "name": "stdout",
     "output_type": "stream",
     "text": [
      "['0', '1', '2', '3', '4', '5', '6', '7', '8', '9', '10', '11', '12', '13', '14', '15', '16', '17', '18', '19', '20', '21', '22', '23', '24', '25', '26', '27', '28', '29', '30', '31', '32', '33', '34', '35', '36', '37', '38', '39', '40', '41', '42', '43', '44', '45', '46', '47', '48', '49', '50', '51', '52', '53', '54', '55', '56', '57', '58', '59', '60', '61', '62', '63', '64', '65', '66', '67', '68', '69', '70', '71', '72', '73', '74', '75', '76', '77', '78', '79', '80', '81', '82', '83', '84', '85', '86', '87', '88', '89', '90', '91', '92', '93', '94', '95', '96', '97', '98', '99', '100', '101', '102', '103', '104', '105', '106', '107', '108']\n"
     ]
    }
   ],
   "source": [
    "chapters = os.listdir(chapters_folder)\n",
    "chapters = sorted(chapters, key = lambda x: int(x))\n",
    "chapters_text_directory = \"./chapters_text/\"\n",
    "print(chapters)\n",
    "\n",
    "for idx in chapters:\n",
    "    file = open(os.path.join(chapters_folder, idx), 'r')\n",
    "    soup = BeautifulSoup(file, 'html.parser')\n",
    "    text = soup.find(\"div\", {\"class\": \"chapter-inner chapter-content\"})\n",
    "\n",
    "    content = \"\"\n",
    "    first_text = True\n",
    "    for p in text.find_all(\"p\"):\n",
    "        if not first_text:\n",
    "            content += \"\\n\\n\"\n",
    "        else:\n",
    "            first_text = False\n",
    "        content += p.text\n",
    "    \n",
    "    open(os.path.join(chapters_text_directory, idx), 'w').write(content)"
   ]
  },
  {
   "cell_type": "code",
   "execution_count": 51,
   "metadata": {},
   "outputs": [
    {
     "name": "stdout",
     "output_type": "stream",
     "text": [
      "Completed: [==============================] 100%"
     ]
    }
   ],
   "source": [
    "import time\n",
    "import sys\n",
    "\n",
    "total = 1007  # total number to reach\n",
    "bar_length = 30  # should be less than 100\n",
    "for i in range(total+1):\n",
    "    percent = 100.0*i/total\n",
    "    sys.stdout.write('\\r')\n",
    "    sys.stdout.write(\"Completed: [{:{}}] {:>3}%\"\n",
    "                     .format('='*int(percent/(100.0/bar_length)),\n",
    "                             bar_length, int(percent)))\n",
    "    sys.stdout.flush()\n",
    "    time.sleep(0.002)"
   ]
  }
 ],
 "metadata": {
  "kernelspec": {
   "display_name": "Python 3",
   "language": "python",
   "name": "python3"
  },
  "language_info": {
   "codemirror_mode": {
    "name": "ipython",
    "version": 3
   },
   "file_extension": ".py",
   "mimetype": "text/x-python",
   "name": "python",
   "nbconvert_exporter": "python",
   "pygments_lexer": "ipython3",
   "version": "3.11.7"
  }
 },
 "nbformat": 4,
 "nbformat_minor": 5
}
